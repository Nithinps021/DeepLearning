{
  "nbformat": 4,
  "nbformat_minor": 0,
  "metadata": {
    "colab": {
      "name": "number_classifier",
      "provenance": [],
      "collapsed_sections": [],
      "authorship_tag": "ABX9TyMsjNbWzNJxCVaKmPlLA+2T",
      "include_colab_link": true
    },
    "kernelspec": {
      "name": "python3",
      "display_name": "Python 3"
    }
  },
  "cells": [
    {
      "cell_type": "markdown",
      "metadata": {
        "id": "view-in-github",
        "colab_type": "text"
      },
      "source": [
        "<a href=\"https://colab.research.google.com/github/Nithinps021/DeepLearning/blob/master/number_classifier.ipynb\" target=\"_parent\"><img src=\"https://colab.research.google.com/assets/colab-badge.svg\" alt=\"Open In Colab\"/></a>"
      ]
    },
    {
      "cell_type": "code",
      "metadata": {
        "id": "x2yQZpgaAIx0",
        "colab_type": "code",
        "colab": {}
      },
      "source": [
        "# loading mnist data\n",
        "from sklearn.datasets import fetch_openml\n",
        "mnist=fetch_openml('mnist_784')"
      ],
      "execution_count": 2,
      "outputs": []
    },
    {
      "cell_type": "code",
      "metadata": {
        "id": "miIHF96MC32j",
        "colab_type": "code",
        "colab": {}
      },
      "source": [
        "x,y=mnist.data,mnist.target"
      ],
      "execution_count": 3,
      "outputs": []
    },
    {
      "cell_type": "code",
      "metadata": {
        "id": "Zl9QDrE1DpQ4",
        "colab_type": "code",
        "colab": {
          "base_uri": "https://localhost:8080/",
          "height": 267
        },
        "outputId": "7ce93752-39b8-4ccc-e487-19c9d5444a7a"
      },
      "source": [
        "# visualizing data\n",
        "rand=x[10].reshape(28,28)\n",
        "val=y[3]\n",
        "import matplotlib \n",
        "import matplotlib.pyplot as plt\n",
        "def prec_recall_threshold_curve(precision,recalls,thresholds):\n",
        "  plt.plot(thresholds,precision[:-1],'b--',label='precesion')\n",
        "  plt.plot(thresholds,recalls[:-1],'r-',label='recall')\n",
        "  plt.xlabel('Threshold')\n",
        "  plt.legend(loc=\"lower left\")\n",
        "  plt.ylim([0,1])\n",
        "\n",
        "plt.imshow(rand,cmap=matplotlib.cm.binary,interpolation='nearest')\n",
        "plt.axis('off')\n",
        "# plt.show()\n",
        "# print(val)"
      ],
      "execution_count": 25,
      "outputs": [
        {
          "output_type": "execute_result",
          "data": {
            "text/plain": [
              "(-0.5, 27.5, 27.5, -0.5)"
            ]
          },
          "metadata": {
            "tags": []
          },
          "execution_count": 25
        },
        {
          "output_type": "display_data",
          "data": {
            "image/png": "[encoded data removed]",
            "text/plain": [
              "<Figure size 432x288 with 1 Axes>"
            ]
          },
          "metadata": {
            "tags": [],
            "needs_background": "light"
          }
        }
      ]
    },
    {
      "cell_type": "code",
      "metadata": {
        "id": "gG98xi4PDogR",
        "colab_type": "code",
        "colab": {}
      },
      "source": [
        "# separting test data and train data\n",
        "import numpy as np\n",
        "from sklearn.model_selection import StratifiedShuffleSplit;\n",
        "\n",
        "sss=StratifiedShuffleSplit(n_splits=1,test_size=0.2,random_state=42)\n",
        "for train_index,test_index in sss.split(x,y):\n",
        "  x_train=x[train_index]\n",
        "  y_train=y[train_index]\n",
        "  x_test=x[test_index]\n",
        "  y_test=y[test_index]\n",
        "y_train=y_train.astype(np.int)\n",
        "y_test=y_test.astype(np.int)"
      ],
      "execution_count": 8,
      "outputs": []
    },
    {
      "cell_type": "code",
      "metadata": {
        "id": "HnFluZaEqtE_",
        "colab_type": "code",
        "colab": {}
      },
      "source": [
        "# Binary classification (5 and not 5)\n",
        "# SGDclassifier\n",
        "y_train_5=(y_train==5)\n",
        "y_test_5=(y_test==5)\n",
        "\n",
        "from sklearn.linear_model import SGDClassifier\n",
        "from sklearn.metrics import precision_score,recall_score,confusion_matrix\n",
        "from sklearn.model_selection import cross_val_predict\n",
        "sgdc=SGDClassifier()\n",
        "\n",
        "y_train_pred=cross_val_predict(sgdc,x_train,y_train_5,cv=3)\n",
        "\n",
        "confusion_matrix(y_train_5,y_train_pred)\n",
        "precision=precision_score(y_train_5,y_train_pred)\n",
        "recall=recall_score(y_train_5,y_train_pred)\n",
        "print(precision)\n",
        "print(recall)"
      ],
      "execution_count": 9,
      "outputs": []
    },
    {
      "cell_type": "code",
      "metadata": {
        "id": "OHJYpC12uXhS",
        "colab_type": "code",
        "colab": {}
      },
      "source": [
        "# decision function\n",
        "from sklearn.metrics import precision_recall_curve\n",
        "y_scores=cross_val_predict(sgdc,x_train,y_train_5,cv=3,method='decision_function')\n",
        "\n",
        "prec,recall,threshold=precision_recall_curve(y_train_5,y_scores)\n",
        "\n"
      ],
      "execution_count": null,
      "outputs": []
    },
    {
      "cell_type": "code",
      "metadata": {
        "id": "p_cEgDvw0mxn",
        "colab_type": "code",
        "colab": {
          "base_uri": "https://localhost:8080/",
          "height": 283
        },
        "outputId": "df91dd34-b021-4ef1-85de-c61aac447bd3"
      },
      "source": [
        "threshold\n",
        "prec_recall_threshold_curve(prec,recall,threshold)\n",
        "plt.show()"
      ],
      "execution_count": 26,
      "outputs": [
        {
          "output_type": "display_data",
          "data": {
            "image/png": "[encoded data removed]",
            "text/plain": [
              "<Figure size 432x288 with 1 Axes>"
            ]
          },
          "metadata": {
            "tags": [],
            "needs_background": "light"
          }
        }
      ]
    },
    {
      "cell_type": "code",
      "metadata": {
        "id": "DDY0LLMB2LSB",
        "colab_type": "code",
        "colab": {
          "base_uri": "https://localhost:8080/",
          "height": 283
        },
        "outputId": "f0fca82d-f774-4ad8-aaa1-891ef0cc5a57"
      },
      "source": [
        "plt.plot(prec,recall,'b-')\n",
        "plt.xlabel('Precesion')\n",
        "plt.ylabel('recall')\n",
        "plt.ylim([0,1])\n",
        "plt.xlim([0,1])\n",
        "plt.show()\n"
      ],
      "execution_count": 27,
      "outputs": [
        {
          "output_type": "display_data",
          "data": {
            "image/png": "[encoded data removed]",
            "text/plain": [
              "<Figure size 432x288 with 1 Axes>"
            ]
          },
          "metadata": {
            "tags": [],
            "needs_background": "light"
          }
        }
      ]
    }
  ]
}