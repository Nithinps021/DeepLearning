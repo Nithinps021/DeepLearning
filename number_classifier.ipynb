{
  "nbformat": 4,
  "nbformat_minor": 0,
  "metadata": {
    "colab": {
      "name": "number_classifier",
      "provenance": [],
      "authorship_tag": "ABX9TyPT+qFvygovbnpn0ywWbdxd",
      "include_colab_link": true
    },
    "kernelspec": {
      "name": "python3",
      "display_name": "Python 3"
    }
  },
  "cells": [
    {
      "cell_type": "markdown",
      "metadata": {
        "id": "view-in-github",
        "colab_type": "text"
      },
      "source": [
        "<a href=\"https://colab.research.google.com/github/Nithinps021/DeepLearning/blob/master/number_classifier.ipynb\" target=\"_parent\"><img src=\"https://colab.research.google.com/assets/colab-badge.svg\" alt=\"Open In Colab\"/></a>"
      ]
    },
    {
      "cell_type": "code",
      "metadata": {
        "id": "x2yQZpgaAIx0",
        "colab_type": "code",
        "colab": {}
      },
      "source": [
        "# loading mnist data\n",
        "from sklearn.datasets import fetch_openml\n",
        "mnist=fetch_openml('mnist_784')"
      ],
      "execution_count": null,
      "outputs": []
    },
    {
      "cell_type": "code",
      "metadata": {
        "id": "miIHF96MC32j",
        "colab_type": "code",
        "colab": {}
      },
      "source": [
        "x,y=mnist.data,mnist.target"
      ],
      "execution_count": null,
      "outputs": []
    },
    {
      "cell_type": "code",
      "metadata": {
        "id": "Zl9QDrE1DpQ4",
        "colab_type": "code",
        "colab": {
          "base_uri": "https://localhost:8080/",
          "height": 267
        },
        "outputId": "e57d56ff-036d-4f86-ce2d-9337ace1a6e8"
      },
      "source": [
        "# visualizing data\n",
        "rand=x[10].reshape(28,28)\n",
        "val=y[3]\n",
        "import matplotlib \n",
        "import matplotlib.pyplot as plt\n",
        "plt.imshow(rand,cmap=matplotlib.cm.binary,interpolation='nearest')\n",
        "plt.axis('off')\n",
        "plt.show()\n",
        "print(val)"
      ],
      "execution_count": null,
      "outputs": [
        {
          "output_type": "display_data",
          "data": {
            "image/png": "[encoded data removed]",
            "text/plain": [
              "<Figure size 432x288 with 1 Axes>"
            ]
          },
          "metadata": {
            "tags": [],
            "needs_background": "light"
          }
        },
        {
          "output_type": "stream",
          "text": [
            "1\n"
          ],
          "name": "stdout"
        }
      ]
    },
    {
      "cell_type": "code",
      "metadata": {
        "id": "gG98xi4PDogR",
        "colab_type": "code",
        "colab": {
          "base_uri": "https://localhost:8080/",
          "height": 36
        },
        "outputId": "49c7c584-9550-4440-f5bc-06527debca89"
      },
      "source": [
        ""
      ],
      "execution_count": null,
      "outputs": [
        {
          "output_type": "stream",
          "text": [
            "[ True  True  True ...  True  True  True]\n"
          ],
          "name": "stdout"
        }
      ]
    }
  ]
}