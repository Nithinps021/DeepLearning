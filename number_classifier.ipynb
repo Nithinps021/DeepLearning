{
  "nbformat": 4,
  "nbformat_minor": 0,
  "metadata": {
    "colab": {
      "name": "number_classifier",
      "provenance": [],
      "collapsed_sections": [],
      "authorship_tag": "ABX9TyPIQ/0m5SDuDbxu+whoCJ1V",
      "include_colab_link": true
    },
    "kernelspec": {
      "name": "python3",
      "display_name": "Python 3"
    }
  },
  "cells": [
    {
      "cell_type": "markdown",
      "metadata": {
        "id": "view-in-github",
        "colab_type": "text"
      },
      "source": [
        "<a href=\"https://colab.research.google.com/github/Nithinps021/DeepLearning/blob/master/number_classifier.ipynb\" target=\"_parent\"><img src=\"https://colab.research.google.com/assets/colab-badge.svg\" alt=\"Open In Colab\"/></a>"
      ]
    },
    {
      "cell_type": "code",
      "metadata": {
        "id": "x2yQZpgaAIx0",
        "colab_type": "code",
        "colab": {}
      },
      "source": [
        "# loading mnist data\n",
        "from sklearn.datasets import fetch_openml\n",
        "mnist=fetch_openml('mnist_784')"
      ],
      "execution_count": 4,
      "outputs": []
    },
    {
      "cell_type": "code",
      "metadata": {
        "id": "miIHF96MC32j",
        "colab_type": "code",
        "colab": {}
      },
      "source": [
        "x,y=mnist.data,mnist.target"
      ],
      "execution_count": 5,
      "outputs": []
    },
    {
      "cell_type": "code",
      "metadata": {
        "id": "Zl9QDrE1DpQ4",
        "colab_type": "code",
        "colab": {
          "base_uri": "https://localhost:8080/",
          "height": 267
        },
        "outputId": "61ace0ef-db31-46c9-f494-e87d9b97079a"
      },
      "source": [
        "# visualizing data\n",
        "rand=x[10].reshape(28,28)\n",
        "val=y[3]\n",
        "import matplotlib \n",
        "import matplotlib.pyplot as plt\n",
        "def prec_recall_threshold_curve(precision,recalls,thresholds):\n",
        "  plt.plot(thresholds,precision[:-1],'b--',label='precesion')\n",
        "  plt.plot(thresholds,recalls[:-1],'r-',label='recall')\n",
        "  plt.xlabel('Threshold')\n",
        "  plt.legend(loc=\"lower left\")\n",
        "  plt.ylim([0,1])\n",
        "\n",
        "plt.imshow(rand,cmap=matplotlib.cm.binary,interpolation='nearest')\n",
        "plt.axis('off')\n",
        "# plt.show()\n",
        "# print(val)"
      ],
      "execution_count": 6,
      "outputs": [
        {
          "output_type": "execute_result",
          "data": {
            "text/plain": [
              "(-0.5, 27.5, 27.5, -0.5)"
            ]
          },
          "metadata": {
            "tags": []
          },
          "execution_count": 6
        },
        {
          "output_type": "display_data",
          "data": {
            "image/png": "[encoded data removed]",
            "text/plain": [
              "<Figure size 432x288 with 1 Axes>"
            ]
          },
          "metadata": {
            "tags": [],
            "needs_background": "light"
          }
        }
      ]
    },
    {
      "cell_type": "code",
      "metadata": {
        "id": "gG98xi4PDogR",
        "colab_type": "code",
        "colab": {}
      },
      "source": [
        "# separting test data and train data\n",
        "import numpy as np\n",
        "from sklearn.model_selection import StratifiedShuffleSplit;\n",
        "\n",
        "sss=StratifiedShuffleSplit(n_splits=1,test_size=0.2,random_state=42)\n",
        "for train_index,test_index in sss.split(x,y):\n",
        "  x_train=x[train_index]\n",
        "  y_train=y[train_index]\n",
        "  x_test=x[test_index]\n",
        "  y_test=y[test_index]\n",
        "y_train=y_train.astype(np.int)\n",
        "y_test=y_test.astype(np.int)"
      ],
      "execution_count": 7,
      "outputs": []
    },
    {
      "cell_type": "code",
      "metadata": {
        "id": "HnFluZaEqtE_",
        "colab_type": "code",
        "colab": {
          "base_uri": "https://localhost:8080/",
          "height": 54
        },
        "outputId": "cfaaa48c-393f-4fc6-ae8f-32250adcbc7a"
      },
      "source": [
        "# Binary classification (5 and not 5)\n",
        "# SGDclassifier\n",
        "y_train_5=(y_train==5)\n",
        "y_test_5=(y_test==5)\n",
        "\n",
        "from sklearn.linear_model import SGDClassifier\n",
        "from sklearn.metrics import precision_score,recall_score,confusion_matrix\n",
        "from sklearn.model_selection import cross_val_predict\n",
        "sgdc=SGDClassifier()\n",
        "\n",
        "y_train_pred=cross_val_predict(sgdc,x_train,y_train_5,cv=3)\n",
        "\n",
        "confusion_matrix(y_train_5,y_train_pred)\n",
        "precision=precision_score(y_train_5,y_train_pred)\n",
        "recall=recall_score(y_train_5,y_train_pred)\n",
        "print(precision)\n",
        "print(recall)"
      ],
      "execution_count": 8,
      "outputs": [
        {
          "output_type": "stream",
          "text": [
            "0.7432529686937748\n",
            "0.8178578499307068\n"
          ],
          "name": "stdout"
        }
      ]
    },
    {
      "cell_type": "code",
      "metadata": {
        "id": "OHJYpC12uXhS",
        "colab_type": "code",
        "colab": {}
      },
      "source": [
        "# decision function\n",
        "from sklearn.metrics import precision_recall_curve\n",
        "y_scores=cross_val_predict(sgdc,x_train,y_train_5,cv=3,method='decision_function')\n",
        "\n",
        "prec,recall,threshold=precision_recall_curve(y_train_5,y_scores)\n",
        "\n"
      ],
      "execution_count": 9,
      "outputs": []
    },
    {
      "cell_type": "code",
      "metadata": {
        "id": "p_cEgDvw0mxn",
        "colab_type": "code",
        "colab": {}
      },
      "source": [
        "threshold\n",
        "prec_recall_threshold_curve(prec,recall,threshold)\n",
        "plt.show()"
      ],
      "execution_count": null,
      "outputs": []
    },
    {
      "cell_type": "code",
      "metadata": {
        "id": "DDY0LLMB2LSB",
        "colab_type": "code",
        "colab": {}
      },
      "source": [
        "plt.plot(prec,recall,'b-')\n",
        "plt.xlabel('Precesion')\n",
        "plt.ylabel('recall')\n",
        "plt.ylim([0,1])\n",
        "plt.xlim([0,1])\n",
        "plt.show()\n"
      ],
      "execution_count": null,
      "outputs": []
    },
    {
      "cell_type": "code",
      "metadata": {
        "id": "yUNOcykJ4Y-F",
        "colab_type": "code",
        "colab": {
          "base_uri": "https://localhost:8080/",
          "height": 36
        },
        "outputId": "ffac2bfd-70ef-4b0a-98e1-1a584094e291"
      },
      "source": [
        "# multiclass classification\n",
        "from sklearn.ensemble import  RandomForestClassifier\n",
        "from sklearn.model_selection import cross_val_score\n",
        "from sklearn.preprocessing import StandardScaler\n",
        "\n",
        "scaler=StandardScaler()\n",
        "x_train_std=scaler.fit_transform(x_train.astype(np.float64))\n",
        "x_test_std=scaler.fit_transform(x_test.astype(np.float64))\n",
        "\n",
        "rfc=RandomForestClassifier()\n",
        "score=cross_val_score(rfc,x_train_std,y_train,cv=3)\n",
        "score\n"
      ],
      "execution_count": 12,
      "outputs": [
        {
          "output_type": "execute_result",
          "data": {
            "text/plain": [
              "array([0.96394707, 0.96528633, 0.96624879])"
            ]
          },
          "metadata": {
            "tags": []
          },
          "execution_count": 12
        }
      ]
    },
    {
      "cell_type": "code",
      "metadata": {
        "id": "BN8dN1B5BNIu",
        "colab_type": "code",
        "colab": {
          "base_uri": "https://localhost:8080/",
          "height": 36
        },
        "outputId": "945f5ec9-c8f5-4290-ea39-3ed8216c846b"
      },
      "source": [
        "from sklearn.metrics import accuracy_score\n",
        "\n",
        "rfc.fit(x_train_std,y_train)\n",
        "test_result=rfc.predict(x_test_std)\n",
        "accuracy_score(y_test,test_result)\n"
      ],
      "execution_count": 13,
      "outputs": [
        {
          "output_type": "execute_result",
          "data": {
            "text/plain": [
              "0.9543571428571429"
            ]
          },
          "metadata": {
            "tags": []
          },
          "execution_count": 13
        }
      ]
    },
    {
      "cell_type": "code",
      "metadata": {
        "id": "NalEnV9MCnnE",
        "colab_type": "code",
        "colab": {
          "base_uri": "https://localhost:8080/",
          "height": 56
        },
        "outputId": "65fe0bda-1c98-4d27-a438-6c0aa3e5be34"
      },
      "source": [
        "from google.colab import drive\n",
        "drive.mount('/content/gdrive')"
      ],
      "execution_count": 14,
      "outputs": [
        {
          "output_type": "stream",
          "text": [
            "Drive already mounted at /content/gdrive; to attempt to forcibly remount, call drive.mount(\"/content/gdrive\", force_remount=True).\n"
          ],
          "name": "stdout"
        }
      ]
    },
    {
      "cell_type": "code",
      "metadata": {
        "id": "zgfkosYw4L77",
        "colab_type": "code",
        "colab": {}
      },
      "source": [
        "import pickle\n",
        "save_name='numb_classifier_rfc_p_95.sav'\n",
        "path=F\"/content/gdrive/My Drive/colab_models/{save_name}\"\n",
        "pickle.dump(rfc,open(path,mode='wb'))"
      ],
      "execution_count": 17,
      "outputs": []
    },
    {
      "cell_type": "code",
      "metadata": {
        "id": "ghTS2kzY9SLp",
        "colab_type": "code",
        "colab": {
          "base_uri": "https://localhost:8080/",
          "height": 36
        },
        "outputId": "b280a36f-8393-4ca5-8ac2-a51b8aff8d95"
      },
      "source": [
        "# run this block to get the model and train\n",
        "import pickle\n",
        "save_name='numb_classifier_rfc_p_95.sav'\n",
        "path=F\"/content/gdrive/My Drive/colab_models/{save_name}\"\n",
        "rfc=pickle.load(open(path,'rb'))\n",
        "test_result=rfc.predict(x_test_std)\n",
        "accuracy_score(y_test,test_result)"
      ],
      "execution_count": 18,
      "outputs": [
        {
          "output_type": "execute_result",
          "data": {
            "text/plain": [
              "0.9543571428571429"
            ]
          },
          "metadata": {
            "tags": []
          },
          "execution_count": 18
        }
      ]
    }
  ]
}