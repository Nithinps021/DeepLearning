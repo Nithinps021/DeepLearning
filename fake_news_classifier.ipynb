{
  "nbformat": 4,
  "nbformat_minor": 0,
  "metadata": {
    "colab": {
      "name": "fake_news_classifier.ipynb",
      "provenance": [],
      "mount_file_id": "1_smB2iuYIAett_m8Z-Trm5wYC6aaLCpi",
      "authorship_tag": "ABX9TyM6pOR6dvwlEOEG00tZMAOA",
      "include_colab_link": true
    },
    "kernelspec": {
      "name": "python3",
      "display_name": "Python 3"
    },
    "accelerator": "GPU"
  },
  "cells": [
    {
      "cell_type": "markdown",
      "metadata": {
        "id": "view-in-github",
        "colab_type": "text"
      },
      "source": [
        "<a href=\"https://colab.research.google.com/github/Nithinps021/DeepLearning/blob/master/fake_news_classifier.ipynb\" target=\"_parent\"><img src=\"https://colab.research.google.com/assets/colab-badge.svg\" alt=\"Open In Colab\"/></a>"
      ]
    },
    {
      "cell_type": "code",
      "metadata": {
        "id": "mjQHKH4Plcqk"
      },
      "source": [
        "import os\n",
        "import pandas as pd"
      ],
      "execution_count": 12,
      "outputs": []
    },
    {
      "cell_type": "code",
      "metadata": {
        "id": "iPQ1R3DRqZUv"
      },
      "source": [
        "\n",
        "data_path='./drive/My Drive/FAKE_NEWS_CLASSIFIER'\n",
        "true_data=pd.read_csv(data_path+'/True.csv')\n",
        "false_data=pd.read_csv(data_path+'/Fake.csv')\n",
        "false_data['labels']=0\n",
        "true_data['labels']=1\n",
        "full_data =pd.concat([true_data,false_data])\n",
        "full_data.reset_index(inplace=True)"
      ],
      "execution_count": 13,
      "outputs": []
    },
    {
      "cell_type": "code",
      "metadata": {
        "id": "FYQFMru2WRKD"
      },
      "source": [
        "X=full_data.drop('labels',axis=1)\n",
        "Y=full_data['labels']\n"
      ],
      "execution_count": 14,
      "outputs": []
    },
    {
      "cell_type": "code",
      "metadata": {
        "id": "zX5QThoml566"
      },
      "source": [
        "# Data preprocessing\n",
        "import nltk\n",
        "import re\n",
        "from nltk.corpus import stopwords\n",
        "from nltk.stem import WordNetLemmatizer\n",
        "nltk.download('stopwords')\n",
        "nltk.download('wordnet')"
      ],
      "execution_count": null,
      "outputs": []
    },
    {
      "cell_type": "code",
      "metadata": {
        "id": "bNRGj_rDsUdw"
      },
      "source": [
        "messages=X.copy()\n",
        "stemmer=WordNetLemmatizer()\n",
        "titles=[]\n",
        "for i in range(len(messages)):\n",
        "  title=re.sub('^a-zA-Z',' ',messages['title'][i])\n",
        "  title=title.lower()\n",
        "  title=title.split(' ')\n",
        "  title=[stemmer.lemmatize(word) for word in title if not word in stopwords.words('english')]\n",
        "  title=' '.join(title)\n",
        "  titles.append(title)"
      ],
      "execution_count": 16,
      "outputs": []
    },
    {
      "cell_type": "code",
      "metadata": {
        "id": "4LHc9DxhjBnQ"
      },
      "source": [
        "from tensorflow.keras.layers import Embedding,Dense,LSTM,Dropout \n",
        "from tensorflow.keras.preprocessing.sequence import pad_sequences \n",
        "from tensorflow.keras.models import Sequential\n",
        "from tensorflow.keras.preprocessing.text import one_hot"
      ],
      "execution_count": 17,
      "outputs": []
    },
    {
      "cell_type": "code",
      "metadata": {
        "id": "nkWuh4l5lVSy"
      },
      "source": [
        "vocab_size=5000\n",
        "one_hot_rep=[one_hot(words,vocab_size) for words in titles]\n",
        "max_length=20\n",
        "embedded_docs=pad_sequences(one_hot_rep,maxlen=max_length,padding='pre')"
      ],
      "execution_count": 21,
      "outputs": []
    },
    {
      "cell_type": "code",
      "metadata": {
        "id": "EvLc6_-YB76q"
      },
      "source": [
        "# pickling\n",
        "import pickle\n",
        "with open(data_path+'/embedded_doc.pickle','wb') as filX:\n",
        "  pickle.dump(embedded_docs,filX)\n",
        "filX.close()\n",
        "with open(data_path+'/Y.pickle','wb') as filY:\n",
        "  pickle.dump(Y,filY)\n",
        "filY.close()\n"
      ],
      "execution_count": 29,
      "outputs": []
    },
    {
      "cell_type": "code",
      "metadata": {
        "id": "3kUy77CIDCYe"
      },
      "source": [
        "# retriving pickled data\n",
        "import pickle\n",
        "data_path='./drive/My Drive/FAKE_NEWS_CLASSIFIER'\n",
        "with open(data_path+'/embedded_doc.pickle','rb') as fil:\n",
        "  embedded_docs=pickle.load(fil)\n",
        "with open(data_path+'/Y.pickle','rb') as filY:\n",
        "  Y=pickle.load(filY)\n",
        "fil.close()\n",
        "filY.close()\n",
        "max_length=20\n",
        "vocab_size=5000"
      ],
      "execution_count": null,
      "outputs": []
    },
    {
      "cell_type": "code",
      "metadata": {
        "id": "J2xwRloYGH7q"
      },
      "source": [
        "from sklearn.model_selection import train_test_split\n",
        "import numpy as np\n",
        "X=np.array(embedded_docs)\n",
        "Y=np.array(Y)\n",
        "x_train,x_test,y_train,y_test=train_test_split(X,Y,test_size=0.2,random_state=42)"
      ],
      "execution_count": 32,
      "outputs": []
    },
    {
      "cell_type": "code",
      "metadata": {
        "id": "coPHa-bH_3kq"
      },
      "source": [
        "embedded_features=40\n",
        "model=Sequential()\n",
        "model.add(Embedding(vocab_size,embedded_features,input_length=max_length))\n",
        "model.add(Dropout(0.3))\n",
        "model.add(LSTM(100))\n",
        "model.add(Dropout(0.3))\n",
        "model.add(Dense(1,activation='sigmoid'))\n",
        "model.compile(loss='binary_crossentropy',optimizer='adam',metrics=['accuracy'])"
      ],
      "execution_count": 67,
      "outputs": []
    },
    {
      "cell_type": "code",
      "metadata": {
        "id": "azHUb5aIKd2R",
        "outputId": "a6ca1cc9-33bb-4f74-caf7-dbd6daa37d2a",
        "colab": {
          "base_uri": "https://localhost:8080/"
        }
      },
      "source": [
        "\n",
        "history=model.fit(x_train,y_train,validation_split=0.1,epochs=10,batch_size=32)"
      ],
      "execution_count": 68,
      "outputs": [
        {
          "output_type": "stream",
          "text": [
            "Epoch 1/10\n",
            "1011/1011 [==============================] - 8s 8ms/step - loss: 0.2100 - accuracy: 0.9111 - val_loss: 0.1410 - val_accuracy: 0.9435\n",
            "Epoch 2/10\n",
            "1011/1011 [==============================] - 8s 8ms/step - loss: 0.1115 - accuracy: 0.9568 - val_loss: 0.1290 - val_accuracy: 0.9457\n",
            "Epoch 3/10\n",
            "1011/1011 [==============================] - 8s 8ms/step - loss: 0.0806 - accuracy: 0.9693 - val_loss: 0.1386 - val_accuracy: 0.9485\n",
            "Epoch 4/10\n",
            "1011/1011 [==============================] - 8s 7ms/step - loss: 0.0630 - accuracy: 0.9761 - val_loss: 0.1580 - val_accuracy: 0.9477\n",
            "Epoch 5/10\n",
            "1011/1011 [==============================] - 8s 8ms/step - loss: 0.0470 - accuracy: 0.9829 - val_loss: 0.1754 - val_accuracy: 0.9463\n",
            "Epoch 6/10\n",
            "1011/1011 [==============================] - 8s 8ms/step - loss: 0.0384 - accuracy: 0.9856 - val_loss: 0.1823 - val_accuracy: 0.9446\n",
            "Epoch 7/10\n",
            "1011/1011 [==============================] - 7s 7ms/step - loss: 0.0335 - accuracy: 0.9875 - val_loss: 0.2029 - val_accuracy: 0.9465\n",
            "Epoch 8/10\n",
            "1011/1011 [==============================] - 7s 7ms/step - loss: 0.0279 - accuracy: 0.9899 - val_loss: 0.2300 - val_accuracy: 0.9446\n",
            "Epoch 9/10\n",
            "1011/1011 [==============================] - 7s 7ms/step - loss: 0.0212 - accuracy: 0.9926 - val_loss: 0.2340 - val_accuracy: 0.9443\n",
            "Epoch 10/10\n",
            "1011/1011 [==============================] - 7s 7ms/step - loss: 0.0196 - accuracy: 0.9931 - val_loss: 0.2695 - val_accuracy: 0.9415\n"
          ],
          "name": "stdout"
        }
      ]
    },
    {
      "cell_type": "code",
      "metadata": {
        "id": "RyHb721-NNA3"
      },
      "source": [
        "from sklearn.metrics import confusion_matrix,accuracy_score\n",
        "y_predicted=model.predict_classes(x_test)"
      ],
      "execution_count": 73,
      "outputs": []
    },
    {
      "cell_type": "code",
      "metadata": {
        "id": "L7xGsk6BNpo6",
        "outputId": "9cfa6b1d-1cd4-4daf-e897-60ff76933a49",
        "colab": {
          "base_uri": "https://localhost:8080/"
        }
      },
      "source": [
        "confusion_matrix(y_test,y_predicted)"
      ],
      "execution_count": 74,
      "outputs": [
        {
          "output_type": "execute_result",
          "data": {
            "text/plain": [
              "array([[4457,  193],\n",
              "       [ 302, 4028]])"
            ]
          },
          "metadata": {
            "tags": []
          },
          "execution_count": 74
        }
      ]
    },
    {
      "cell_type": "code",
      "metadata": {
        "id": "AtRL3hRrNzda",
        "outputId": "3fda9bb1-7fe5-4307-f133-136ed6af3d13",
        "colab": {
          "base_uri": "https://localhost:8080/"
        }
      },
      "source": [
        "accuracy_score(y_test,y_predicted)"
      ],
      "execution_count": 75,
      "outputs": [
        {
          "output_type": "execute_result",
          "data": {
            "text/plain": [
              "0.9448775055679287"
            ]
          },
          "metadata": {
            "tags": []
          },
          "execution_count": 75
        }
      ]
    },
    {
      "cell_type": "code",
      "metadata": {
        "id": "-SbmdKuSQMDr",
        "outputId": "7b8c6996-2b5a-47e9-8981-9d621a08ab86",
        "colab": {
          "base_uri": "https://localhost:8080/",
          "height": 462
        }
      },
      "source": [
        "import matplotlib as plt\n",
        "\n",
        "pd.DataFrame(history.history).plot()\n",
        "# plt.set_ylim(0, 1) # set the vertical range to [0.01-0.1]\n",
        "plt.grid(True)\n",
        "plt.show()"
      ],
      "execution_count": 71,
      "outputs": [
        {
          "output_type": "error",
          "ename": "AttributeError",
          "evalue": "ignored",
          "traceback": [
            "\u001b[0;31m---------------------------------------------------------------------------\u001b[0m",
            "\u001b[0;31mAttributeError\u001b[0m                            Traceback (most recent call last)",
            "\u001b[0;32m<ipython-input-71-be6f321f0946>\u001b[0m in \u001b[0;36m<module>\u001b[0;34m()\u001b[0m\n\u001b[1;32m      3\u001b[0m \u001b[0mpd\u001b[0m\u001b[0;34m.\u001b[0m\u001b[0mDataFrame\u001b[0m\u001b[0;34m(\u001b[0m\u001b[0mhistory\u001b[0m\u001b[0;34m.\u001b[0m\u001b[0mhistory\u001b[0m\u001b[0;34m)\u001b[0m\u001b[0;34m.\u001b[0m\u001b[0mplot\u001b[0m\u001b[0;34m(\u001b[0m\u001b[0;34m)\u001b[0m\u001b[0;34m\u001b[0m\u001b[0;34m\u001b[0m\u001b[0m\n\u001b[1;32m      4\u001b[0m \u001b[0;31m# plt.set_ylim(0, 1) # set the vertical range to [0.01-0.1]\u001b[0m\u001b[0;34m\u001b[0m\u001b[0;34m\u001b[0m\u001b[0;34m\u001b[0m\u001b[0m\n\u001b[0;32m----> 5\u001b[0;31m \u001b[0mplt\u001b[0m\u001b[0;34m.\u001b[0m\u001b[0mgrid\u001b[0m\u001b[0;34m(\u001b[0m\u001b[0;32mTrue\u001b[0m\u001b[0;34m)\u001b[0m\u001b[0;34m\u001b[0m\u001b[0;34m\u001b[0m\u001b[0m\n\u001b[0m\u001b[1;32m      6\u001b[0m \u001b[0mplt\u001b[0m\u001b[0;34m.\u001b[0m\u001b[0mshow\u001b[0m\u001b[0;34m(\u001b[0m\u001b[0;34m)\u001b[0m\u001b[0;34m\u001b[0m\u001b[0;34m\u001b[0m\u001b[0m\n",
            "\u001b[0;31mAttributeError\u001b[0m: module 'matplotlib' has no attribute 'grid'"
          ]
        },
        {
          "output_type": "display_data",
          "data": {
            "image/png": "[encoded data removed]",
            "text/plain": [
              "<Figure size 432x288 with 1 Axes>"
            ]
          },
          "metadata": {
            "tags": [],
            "needs_background": "light"
          }
        }
      ]
    }
  ]
}