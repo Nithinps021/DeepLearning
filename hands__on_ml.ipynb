{
  "nbformat": 4,
  "nbformat_minor": 0,
  "metadata": {
    "colab": {
      "name": "hands _on_ml.ipynb",
      "provenance": [],
      "authorship_tag": "ABX9TyOXBk1vrJhVZ4WVBkQPO0xk",
      "include_colab_link": true
    },
    "kernelspec": {
      "name": "python3",
      "display_name": "Python 3"
    }
  },
  "cells": [
    {
      "cell_type": "markdown",
      "metadata": {
        "id": "view-in-github",
        "colab_type": "text"
      },
      "source": [
        "<a href=\"https://colab.research.google.com/github/Nithinps021/DeepLearning/blob/master/hands__on_ml.ipynb\" target=\"_parent\"><img src=\"https://colab.research.google.com/assets/colab-badge.svg\" alt=\"Open In Colab\"/></a>"
      ]
    },
    {
      "cell_type": "code",
      "metadata": {
        "id": "Pj_BujkNHJEv",
        "colab_type": "code",
        "colab": {}
      },
      "source": [
        "import os\n",
        "import tarfile\n",
        "from six.moves import urllib"
      ],
      "execution_count": 38,
      "outputs": []
    },
    {
      "cell_type": "code",
      "metadata": {
        "id": "F8Dkyv25HYnT",
        "colab_type": "code",
        "colab": {}
      },
      "source": [
        "DOWNLOAD_ROOT=\"https://raw.githubusercontent.com/ageron/handson-ml/master/\"\n",
        "HOUSING_PATH='datasets/housing'\n",
        "HOUSING_URL=DOWNLOAD_ROOT + HOUSING_PATH + '/housing.tgz'\n",
        "\n",
        "def fetch_data(housing_url=HOUSING_URL,housing_path=HOUSING_PATH):\n",
        "  if not os.path.isdir(housing_path):\n",
        "    os.makedirs(housing_path)\n",
        "  tgz_path=os.path.join(housing_path,'housing.tgz')\n",
        "  urllib.request.urlretrieve(housing_url,tgz_path)\n",
        "  housing_tgz=tarfile.open(tgz_path)\n",
        "  housing_tgz.extractall(path='sample_data/'+housing_path)\n",
        "  housing_tgz.close()\n",
        "  \n",
        "fetch_data()\n"
      ],
      "execution_count": 40,
      "outputs": []
    },
    {
      "cell_type": "code",
      "metadata": {
        "id": "h2gmcAh0Pqi5",
        "colab_type": "code",
        "colab": {}
      },
      "source": [
        "import pandas as pd\n",
        "\n",
        "def loadHousingData(housing_path='sample_data/'+HOUSING_PATH):\n",
        "  path_housing_csv=os.path.join(housing_path,'housing.csv')\n",
        "  return pd.read_csv(path_housing_csv)"
      ],
      "execution_count": 41,
      "outputs": []
    },
    {
      "cell_type": "code",
      "metadata": {
        "id": "pEG_p3-JQwt5",
        "colab_type": "code",
        "colab": {}
      },
      "source": [
        "housingData=loadHousingData()\n",
        "housingData=housingData[housingData['ocean_proximity']!='ISLAND']\n",
        "housingData.describe()"
      ],
      "execution_count": null,
      "outputs": []
    },
    {
      "cell_type": "code",
      "metadata": {
        "id": "k_TIDIN1SCU3",
        "colab_type": "code",
        "colab": {}
      },
      "source": [
        "housingData.columns\n",
        "# housingData[\"median_income\"].value_counts()"
      ],
      "execution_count": null,
      "outputs": []
    },
    {
      "cell_type": "code",
      "metadata": {
        "id": "IyD7rvxrUqlf",
        "colab_type": "code",
        "colab": {}
      },
      "source": [
        "import matplotlib.pyplot as plt\n",
        "\n",
        "housingData.hist(bins=50,figsize=(20,15),color='green')\n",
        "# plt.show()"
      ],
      "execution_count": null,
      "outputs": []
    },
    {
      "cell_type": "code",
      "metadata": {
        "id": "F2_YVxyDYx8l",
        "colab_type": "code",
        "colab": {}
      },
      "source": [
        "import numpy as np\n",
        "from sklearn.model_selection import StratifiedShuffleSplit\n",
        "\n",
        "\n",
        "# def shuffle_data(data,testSize):\n",
        "#   shuffled_indices=np.random.permutation(len(data))\n",
        "#   test_size=int(len(data)*testSize)\n",
        "#   test_indices=shuffled_indices[:test_size]\n",
        "#   train_indices=shuffled_indices[test_size:]\n",
        "#   return data.iloc[test_indices] ,  data.iloc[train_indices]\n",
        "\n",
        "# testData,trainData = shuffle_data(housingData,0.2)\n",
        "\n",
        "# using sklearn train_test_split method\n",
        "\n",
        "# from sklearn.model_selection import train_test_split\n",
        "# train_data, test_data=train_test_split(housingData,test_size=0.2,random_state=42)\n",
        "\n",
        "# print(len(train_data),len(test_data))\n",
        "\n",
        "\n",
        "# StratifiedShuffleSplit\n",
        "\n",
        "housingData['income_cat']=np.ceil(housingData['median_income']/1.5)\n",
        "housingData['income_cat'].where(housingData['income_cat']<5,5.0,inplace=True)\n",
        "splitData=StratifiedShuffleSplit(n_splits=1,test_size=0.2,random_state=42)\n",
        "for trainIndex,testIndex in splitData.split(housingData,housingData['income_cat']):\n",
        "  train_data=housingData.iloc[trainIndex]\n",
        "  test_data=housingData.iloc[testIndex]\n",
        "for  i in (train_data,test_data):\n",
        "  i.drop(['income_cat'],axis=1,inplace=True)\n",
        "housingData=train_data.copy()"
      ],
      "execution_count": null,
      "outputs": []
    },
    {
      "cell_type": "code",
      "metadata": {
        "id": "XsxnLVq_i4lZ",
        "colab_type": "code",
        "colab": {}
      },
      "source": [
        "\n",
        "housingData.plot(kind='scatter',x='longitude',y='latitude',alpha=0.4,\n",
        "                 s=housingData['population']/100,label='population',\n",
        "                 c='median_house_value',cmap=plt.get_cmap('jet'),colorbar=True\n",
        "                 )\n",
        "plt.legend()"
      ],
      "execution_count": null,
      "outputs": []
    },
    {
      "cell_type": "code",
      "metadata": {
        "id": "ozScdlFexM-n",
        "colab_type": "code",
        "colab": {}
      },
      "source": [
        "# correlation matrix\n",
        "cor_matrix=housingData.corr()\n",
        "cor_matrix['median_income'].sort_values(ascending=False)"
      ],
      "execution_count": null,
      "outputs": []
    },
    {
      "cell_type": "code",
      "metadata": {
        "id": "BUnn7of6RnQ0",
        "colab_type": "code",
        "colab": {}
      },
      "source": [
        "# separating training data and training labels\n",
        "\n",
        "housingData=train_data.drop(['median_house_value'],axis=1)\n",
        "housingLabel=train_data['median_house_value'].copy()\n",
        "  "
      ],
      "execution_count": 45,
      "outputs": []
    },
    {
      "cell_type": "code",
      "metadata": {
        "id": "0lzEunnBqevJ",
        "colab_type": "code",
        "colab": {}
      },
      "source": [
        "# data cleaning using pipeline\n",
        "from sklearn.preprocessing import OneHotEncoder,LabelEncoder,LabelBinarizer,StandardScaler\n",
        "from sklearn.impute import SimpleImputer\n",
        "from sklearn.base import BaseEstimator,TransformerMixin\n",
        "from sklearn.pipeline import Pipeline,FeatureUnion\n",
        "\n",
        "rooms,bedrooms,population,household=3,4,5,6\n",
        "\n",
        "class CombineAttribute(BaseEstimator,TransformerMixin):\n",
        "  def __init__(self,add_bedroom_per_room=True):\n",
        "    self.add_bedroom_per_room=add_bedroom_per_room\n",
        "  def fit(self,X,Y=None):\n",
        "    return self\n",
        "  def transform(self,X,Y=None):\n",
        "    rooms_per_household=X[:,rooms]/X[:,household]\n",
        "    population_per_household=X[:,population]/X[:,household]\n",
        "    if self.add_bedroom_per_room:\n",
        "      bedroom_per_room=X[:,bedrooms]/X[:,rooms]\n",
        "      print(\"all added\")\n",
        "      return np.c_[X,bedroom_per_room,rooms_per_household,population_per_household]\n",
        "    else:\n",
        "      return np.c_[X,rooms_per_household,population_per_household]\n",
        "\n",
        "class DataFrameSelector(BaseEstimator,TransformerMixin):\n",
        "  def __init__(self,attribute_names):\n",
        "    self.attribute_names=attribute_names\n",
        "  def fit(self,X,Y=None):\n",
        "    return self\n",
        "  def transform(self,X,Y=None):\n",
        "    return X[self.attribute_names].values\n",
        "    \n",
        "class CatBinarlabelizer(BaseEstimator,TransformerMixin):\n",
        "  def __init__(self):\n",
        "    self.encoder=LabelBinarizer()\n",
        "  def fit(self,X,Y=None):\n",
        "    self.encoder.fit(X)\n",
        "    return self\n",
        "  def transform(self,X,Y=None):\n",
        "    return self.encoder.transform(X)\n",
        "\n",
        "housing_num=housingData.drop(\"ocean_proximity\",axis=1)\n",
        "attributes=list(housing_num)\n",
        "catAttribute=['ocean_proximity']\n",
        "\n",
        "num_pipeline=Pipeline([\n",
        "                       ('selector',DataFrameSelector(attributes)),\n",
        "                       ('impute',SimpleImputer(strategy='median')),\n",
        "                       ('attribue_adder',CombineAttribute()),\n",
        "                       ('normalise',StandardScaler())\n",
        "])\n",
        "\n",
        "\n",
        "cat_pipeline=Pipeline([\n",
        "                       ('selector',DataFrameSelector(catAttribute)),\n",
        "                       ('labelBinarizer',CatBinarlabelizer())\n",
        "])\n",
        "\n",
        "combinePipeline=FeatureUnion(transformer_list=[\n",
        "                                               ('num_pipeline',num_pipeline),\n",
        "                                               ('cat_pipeline',cat_pipeline)\n",
        "])\n",
        "\n",
        "housingTraining=combinePipeline.fit_transform(housingData)\n",
        "housingTraining.shape"
      ],
      "execution_count": null,
      "outputs": []
    },
    {
      "cell_type": "code",
      "metadata": {
        "id": "2g_dfBQKRlwH",
        "colab_type": "code",
        "colab": {}
      },
      "source": [
        "# data cleaning\n",
        "\n",
        "\n",
        "# imputer=SimpleImputer(strategy='median')\n",
        "# housing_num=housingData.drop(\"ocean_proximity\",axis=1)\n",
        "# imputer.fit(housing_num)\n",
        "# X=imputer.transform(housing_num)\n",
        "# housing_tr=pd.DataFrame(X,columns=housing_num.columns)\n",
        "# norm=StandardScaler()\n",
        "# normalised=norm.fit_transform(housing_tr)\n",
        "# housing_num[number].values\n"
      ],
      "execution_count": null,
      "outputs": []
    },
    {
      "cell_type": "code",
      "metadata": {
        "id": "vUAF_fbx6UHK",
        "colab_type": "code",
        "colab": {}
      },
      "source": [
        "# text and categorical attributes\n",
        "\n",
        "# housing_cat=housingData['ocean_proximity']\n",
        "\n",
        "# # encoder=LabelEncoder()\n",
        "# # housing_cat_encode=encoder.fit_transform(housing_cat)\n",
        "# # hotEncoder=OneHotEncoder()\n",
        "# # housing_cat_1hot=hotEncoder.fit_transform(housing_cat_encode.reshape(-1,1))\n",
        "# # housing_cat_1hot.toarray()\n",
        "\n",
        "# encoder=LabelBinarizer()\n",
        "# housing_cat_1hot=encoder.fit_transform(housing_cat)\n",
        "# housing_cat_1hot\n"
      ],
      "execution_count": null,
      "outputs": []
    },
    {
      "cell_type": "code",
      "metadata": {
        "id": "MHp6wyItG9nR",
        "colab_type": "code",
        "colab": {
          "base_uri": "https://localhost:8080/",
          "height": 104
        },
        "outputId": "f20fd11b-bb6f-437c-f0c6-8eca633cf4f8"
      },
      "source": [
        "from sklearn.linear_model import LinearRegression\n",
        "from sklearn.model_selection import cross_val_score\n",
        "\n",
        "def DisplayScores(score):\n",
        "  print(\"score : \",score)\n",
        "  print(\"mean : \",score.mean())\n",
        "  print(\"std : \",score.std())\n",
        "\n",
        "\n",
        "lin_reg=LinearRegression()\n",
        "scores=cross_val_score(lin_reg,housingTraining,housingLabel.values,scoring='neg_mean_squared_error',cv=10)\n",
        "rms_scores=np.sqrt(-scores)\n",
        "DisplayScores(rms_scores)\n",
        "\n",
        "# lin_reg.fit(housingTraining,housingLabel)\n",
        "# some_data=housingData.iloc[:50]\n",
        "# some_data_to_predic=combinePipeline.fit_transform(some_data)\n",
        "# some_label=housingLabel.iloc[:50].values\n",
        "# some_data_to_predic\n",
        "# predicted_values=lin_reg.predict(some_data_to_predic)\n",
        "# print(predicted_values[:5],'\\n',some_label[:5])"
      ],
      "execution_count": 52,
      "outputs": [
        {
          "output_type": "stream",
          "text": [
            "score :  [68469.09832551 69034.42044851 66377.52837338 68982.05960585\n",
            " 67421.45808313 68900.13835611 72489.20120817 67821.26099999\n",
            " 70340.17763808 68693.87187002]\n",
            "mean :  68852.92149087616\n",
            "std :  1577.9704665472154\n"
          ],
          "name": "stdout"
        }
      ]
    }
  ]
}